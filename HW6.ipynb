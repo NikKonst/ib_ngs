{
 "cells": [
  {
   "cell_type": "markdown",
   "metadata": {
    "collapsed": true
   },
   "source": [
    "# 1. Сборка длинных ридов\n",
    "\n",
    "Для pacbio ридов используем сборщик canu, который по умолчанию проводит коррекцию ошибок и тримминг"
   ]
  },
  {
   "cell_type": "code",
   "execution_count": null,
   "metadata": {
    "scrolled": true
   },
   "outputs": [],
   "source": [
    "!utils/canu-2.1.1/bin/canu -p pacbio_10x -d data/HW6/pacbio_10x genomeSize=4.8m -pacbio data/HW6/pacbio_10x.fq"
   ]
  },
  {
   "cell_type": "markdown",
   "metadata": {},
   "source": [
    "Не собралось с покрытием 10, сборщик пишет что слишком маленькое покрытие "
   ]
  },
  {
   "cell_type": "code",
   "execution_count": null,
   "metadata": {},
   "outputs": [],
   "source": [
    "!utils/canu-2.1.1/bin/canu -p pacbio_20x -d data/HW6/pacbio_20x genomeSize=4.8m -pacbio data/HW6/pacbio_20x.fq"
   ]
  },
  {
   "cell_type": "code",
   "execution_count": null,
   "metadata": {
    "scrolled": true
   },
   "outputs": [],
   "source": [
    "!utils/canu-2.1.1/bin/canu -p pacbio_40x -d data/HW6/pacbio_40x genomeSize=4.8m -pacbio data/HW6/pacbio_40x.fq"
   ]
  },
  {
   "cell_type": "code",
   "execution_count": null,
   "metadata": {},
   "outputs": [],
   "source": [
    "!utils/canu-2.1.1/bin/canu -p pacbio_80x -d data/HW6/pacbio_80x genomeSize=4.8m -pacbio data/HW6/pacbio_80x.fq"
   ]
  },
  {
   "cell_type": "markdown",
   "metadata": {},
   "source": [
    "# 2. Сборка коротких ридов"
   ]
  },
  {
   "cell_type": "markdown",
   "metadata": {},
   "source": [
    "Для ридов Illumina используем SPAdes"
   ]
  },
  {
   "cell_type": "code",
   "execution_count": null,
   "metadata": {
    "scrolled": true
   },
   "outputs": [],
   "source": [
    "!spades.py --pe1-1 data/HW6/illumina.100x.1.fq --pe1-2 data/HW6/illumina.100x.2.fq -o data/HW6/illumina"
   ]
  },
  {
   "cell_type": "markdown",
   "metadata": {},
   "source": [
    "# 3. Гибридная сборка"
   ]
  },
  {
   "cell_type": "code",
   "execution_count": null,
   "metadata": {},
   "outputs": [],
   "source": [
    "!spades.py --pe1-1 data/HW6/illumina.100x.1.fq --pe1-2 data/HW6/illumina.100x.2.fq --pacbio data/HW6/pacbio_80x.fq -o data/HW6/illumina_pacbio"
   ]
  },
  {
   "cell_type": "markdown",
   "metadata": {},
   "source": [
    "# 4. Cравнение сборок"
   ]
  },
  {
   "cell_type": "code",
   "execution_count": null,
   "metadata": {},
   "outputs": [],
   "source": [
    "!python2 utils/quast-5.0.2/quast.py data/HW6/pacbio_20x/pacbio_20x.contigs.fasta \\\n",
    "                            data/HW6/pacbio_40x/pacbio_40x.contigs.fasta \\\n",
    "                            data/HW6/pacbio_80x/pacbio_80x.contigs.fasta \\\n",
    "                            data/HW6/illumina/contigs.fasta \\\n",
    "                            data/HW6/illumina_pacbio/contigs.fasta \\\n",
    "                         -r data/HW6/reference.fasta"
   ]
  },
  {
   "cell_type": "markdown",
   "metadata": {},
   "source": [
    "Результаты в quast_results/results_2021_04_23_20_33_14/report.html\n",
    "\n",
    "<img src=\"img/quast.png\">\n",
    "\n",
    "<img src=\"img/quastgc.png\">"
   ]
  },
  {
   "cell_type": "markdown",
   "metadata": {},
   "source": [
    "NG50 и LG50 лучше у pacbio сборки с высоким покрытием и гибридной сборки (это очевидно из-за длинных ридов)\n",
    "\n",
    "Genome fraction лучше всего у чистого pacbio, но и гибридная сборка почти такая же\n",
    "\n",
    "Короткие прочтения очевидно страдают из-за коротких контигов и как следсвие их большего числа\n",
    "\n",
    "В то же время у pacbio ридов большее количество инделов, но это решается на гибридной сборке\n",
    "\n",
    "Однако, у гибридной сборки большое количество мисметчей по сравнению с другими (не очень нпонятно почему так)\n",
    "\n",
    "GC контекст распределен нормально"
   ]
  },
  {
   "cell_type": "code",
   "execution_count": null,
   "metadata": {},
   "outputs": [],
   "source": []
  }
 ],
 "metadata": {
  "kernelspec": {
   "display_name": "Python 3",
   "language": "python",
   "name": "python3"
  },
  "language_info": {
   "codemirror_mode": {
    "name": "ipython",
    "version": 3
   },
   "file_extension": ".py",
   "mimetype": "text/x-python",
   "name": "python",
   "nbconvert_exporter": "python",
   "pygments_lexer": "ipython3",
   "version": "3.8.8"
  }
 },
 "nbformat": 4,
 "nbformat_minor": 1
}
