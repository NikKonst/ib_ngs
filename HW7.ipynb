{
 "cells": [
  {
   "cell_type": "code",
   "execution_count": 17,
   "metadata": {},
   "outputs": [],
   "source": [
    "import pandas as pd\n",
    "import matplotlib.pyplot as plt"
   ]
  },
  {
   "cell_type": "markdown",
   "metadata": {},
   "source": [
    "# 1. Выравнивание ридов RNA-Seq"
   ]
  },
  {
   "cell_type": "code",
   "execution_count": null,
   "metadata": {},
   "outputs": [],
   "source": [
    "# создаем индекс референса\n",
    "\n",
    "!hisat2-build data/HW7/ref.fa data/HW7/index"
   ]
  },
  {
   "cell_type": "code",
   "execution_count": 5,
   "metadata": {},
   "outputs": [
    {
     "name": "stdout",
     "output_type": "stream",
     "text": [
      "5725730 reads; of these:\r\n",
      "  5725730 (100.00%) were paired; of these:\r\n",
      "    1190833 (20.80%) aligned concordantly 0 times\r\n",
      "    4291336 (74.95%) aligned concordantly exactly 1 time\r\n",
      "    243561 (4.25%) aligned concordantly >1 times\r\n",
      "    ----\r\n",
      "    1190833 pairs aligned concordantly 0 times; of these:\r\n",
      "      136484 (11.46%) aligned discordantly 1 time\r\n",
      "    ----\r\n",
      "    1054349 pairs aligned 0 times concordantly or discordantly; of these:\r\n",
      "      2108698 mates make up the pairs; of these:\r\n",
      "        1419215 (67.30%) aligned 0 times\r\n",
      "        637773 (30.24%) aligned exactly 1 time\r\n",
      "        51710 (2.45%) aligned >1 times\r\n",
      "87.61% overall alignment rate\r\n"
     ]
    }
   ],
   "source": [
    "# выравниваем\n",
    "\n",
    "!hisat2 --threads 8 -x data/HW7/index -1 data/HW7/SRR453566_1.fastq.gz -2 data/HW7/SRR453566_2.fastq.gz > data/HW7/aln.sam"
   ]
  },
  {
   "cell_type": "code",
   "execution_count": 6,
   "metadata": {},
   "outputs": [
    {
     "name": "stdout",
     "output_type": "stream",
     "text": [
      "[bam_sort_core] merging from 4 files and 1 in-memory blocks...\r\n"
     ]
    }
   ],
   "source": [
    "# превращаем выравнивание в bam файл и сортируем\n",
    "\n",
    "!samtools view -S -b data/HW7/aln.sam > data/HW7/aln.bam\n",
    "!samtools sort data/HW7/aln.bam -o data/HW7/aln.sorted.bam"
   ]
  },
  {
   "cell_type": "markdown",
   "metadata": {},
   "source": [
    "# 2. Оценка количества экспрессирующихся генов"
   ]
  },
  {
   "cell_type": "code",
   "execution_count": 7,
   "metadata": {},
   "outputs": [
    {
     "name": "stdout",
     "output_type": "stream",
     "text": [
      "\n",
      "       \u001b[44;37m ========== \u001b[0m\u001b[36m    _____ _    _ ____  _____  ______          _____  \n",
      "       \u001b[44;37m =====      \u001b[0m\u001b[36m   / ____| |  | |  _ \\|  __ \\|  ____|   /\\   |  __ \\ \n",
      "       \u001b[44;37m   =====    \u001b[0m\u001b[36m  | (___ | |  | | |_) | |__) | |__     /  \\  | |  | |\n",
      "       \u001b[44;37m     ====   \u001b[0m\u001b[36m   \\___ \\| |  | |  _ <|  _  /|  __|   / /\\ \\ | |  | |\n",
      "       \u001b[44;37m       ==== \u001b[0m\u001b[36m   ____) | |__| | |_) | | \\ \\| |____ / ____ \\| |__| |\n",
      "       \u001b[44;37m ========== \u001b[0m\u001b[36m  |_____/ \\____/|____/|_|  \\_\\______/_/    \\_\\_____/\u001b[0m\n",
      "\t  v2.0.1\n",
      "\n",
      "//==========================\u001b[36m featureCounts setting \u001b[0m===========================\\\\\n",
      "||  \u001b[0m                                                                          ||\n",
      "||             Input files : \u001b[36m1 BAM file  \u001b[0m \u001b[0m                                    ||\n",
      "||                           \u001b[32mo\u001b[36m aln.sorted.bam\u001b[0m \u001b[0m                                ||\n",
      "||  \u001b[0m                                                                          ||\n",
      "||             Output file : \u001b[36mcounts.txt\u001b[0m \u001b[0m                                      ||\n",
      "||                 Summary : \u001b[36mcounts.txt.summary\u001b[0m \u001b[0m                              ||\n",
      "||              Annotation : \u001b[36mgenes.gtf.gz (GTF)\u001b[0m \u001b[0m                              ||\n",
      "||      Dir for temp files : \u001b[36mdata/HW7\u001b[0m \u001b[0m                                        ||\n",
      "||  \u001b[0m                                                                          ||\n",
      "||                 Threads : \u001b[36m1\u001b[0m \u001b[0m                                               ||\n",
      "||                   Level : \u001b[36mmeta-feature level\u001b[0m \u001b[0m                              ||\n",
      "||              Paired-end : \u001b[36myes\u001b[0m \u001b[0m                                             ||\n",
      "||      Multimapping reads : \u001b[36mnot counted\u001b[0m \u001b[0m                                     ||\n",
      "|| Multi-overlapping reads : \u001b[36mnot counted\u001b[0m \u001b[0m                                     ||\n",
      "||   Min overlapping bases : \u001b[36m1\u001b[0m \u001b[0m                                               ||\n",
      "||  \u001b[0m                                                                          ||\n",
      "||          Chimeric reads : \u001b[36mcounted\u001b[0m \u001b[0m                                         ||\n",
      "||        Both ends mapped : \u001b[36mnot required\u001b[0m \u001b[0m                                    ||\n",
      "||  \u001b[0m                                                                          ||\n",
      "\\\\============================================================================//\n",
      "\n",
      "//=================================\u001b[36m Running \u001b[0m==================================\\\\\n",
      "||  \u001b[0m                                                                          ||\n",
      "|| Load annotation file genes.gtf.gz \u001b[0m... \u001b[0m                                     ||\n",
      "||    Features : \u001b[36m7126\u001b[0m \u001b[0m                                                        ||\n",
      "||    Meta-features : \u001b[36m7126\u001b[0m \u001b[0m                                                   ||\n",
      "||    Chromosomes/contigs : \u001b[36m17\u001b[0m \u001b[0m                                               ||\n",
      "||  \u001b[0m                                                                          ||\n",
      "|| Process BAM file aln.sorted.bam... \u001b[0m                                        ||\n",
      "||    Paired-end reads are included. \u001b[0m                                         ||\n",
      "||    Total alignments : \u001b[36m6296857\u001b[0m \u001b[0m                                             ||\n",
      "||    Successfully assigned alignments : \u001b[36m4655206 (73.9%)\u001b[0m \u001b[0m                     ||\n",
      "||    Running time : \u001b[36m0.33 minutes\u001b[0m \u001b[0m                                            ||\n",
      "||  \u001b[0m                                                                          ||\n",
      "|| Write the final count table. \u001b[0m                                              ||\n",
      "|| Write the read assignment summary. \u001b[0m                                        ||\n",
      "||  \u001b[0m                                                                          ||\n",
      "|| Summary of counting results can be found in file \"data/HW7/counts.txt.sum \u001b[0m ||\n",
      "|| mary\" \u001b[0m                                                                     ||\n",
      "||  \u001b[0m                                                                          ||\n",
      "\\\\============================================================================//\n",
      "\n"
     ]
    }
   ],
   "source": [
    "!featureCounts -p -t 'gene' -a data/HW7/genes.gtf.gz -o data/HW7/counts.txt data/HW7/aln.sorted.bam"
   ]
  },
  {
   "cell_type": "code",
   "execution_count": 13,
   "metadata": {},
   "outputs": [
    {
     "data": {
      "text/html": [
       "<div>\n",
       "<style scoped>\n",
       "    .dataframe tbody tr th:only-of-type {\n",
       "        vertical-align: middle;\n",
       "    }\n",
       "\n",
       "    .dataframe tbody tr th {\n",
       "        vertical-align: top;\n",
       "    }\n",
       "\n",
       "    .dataframe thead th {\n",
       "        text-align: right;\n",
       "    }\n",
       "</style>\n",
       "<table border=\"1\" class=\"dataframe\">\n",
       "  <thead>\n",
       "    <tr style=\"text-align: right;\">\n",
       "      <th></th>\n",
       "      <th>Geneid</th>\n",
       "      <th>Chr</th>\n",
       "      <th>Start</th>\n",
       "      <th>End</th>\n",
       "      <th>Strand</th>\n",
       "      <th>Length</th>\n",
       "      <th>counts</th>\n",
       "    </tr>\n",
       "  </thead>\n",
       "  <tbody>\n",
       "    <tr>\n",
       "      <th>0</th>\n",
       "      <td>YDL248W</td>\n",
       "      <td>IV</td>\n",
       "      <td>1802</td>\n",
       "      <td>2953</td>\n",
       "      <td>+</td>\n",
       "      <td>1152</td>\n",
       "      <td>324</td>\n",
       "    </tr>\n",
       "    <tr>\n",
       "      <th>1</th>\n",
       "      <td>YDL247W-A</td>\n",
       "      <td>IV</td>\n",
       "      <td>3762</td>\n",
       "      <td>3836</td>\n",
       "      <td>+</td>\n",
       "      <td>75</td>\n",
       "      <td>9</td>\n",
       "    </tr>\n",
       "    <tr>\n",
       "      <th>2</th>\n",
       "      <td>YDL247W</td>\n",
       "      <td>IV</td>\n",
       "      <td>5985</td>\n",
       "      <td>7814</td>\n",
       "      <td>+</td>\n",
       "      <td>1830</td>\n",
       "      <td>10</td>\n",
       "    </tr>\n",
       "    <tr>\n",
       "      <th>3</th>\n",
       "      <td>YDL246C</td>\n",
       "      <td>IV</td>\n",
       "      <td>8683</td>\n",
       "      <td>9756</td>\n",
       "      <td>-</td>\n",
       "      <td>1074</td>\n",
       "      <td>7</td>\n",
       "    </tr>\n",
       "    <tr>\n",
       "      <th>4</th>\n",
       "      <td>YDL245C</td>\n",
       "      <td>IV</td>\n",
       "      <td>11657</td>\n",
       "      <td>13360</td>\n",
       "      <td>-</td>\n",
       "      <td>1704</td>\n",
       "      <td>21</td>\n",
       "    </tr>\n",
       "  </tbody>\n",
       "</table>\n",
       "</div>"
      ],
      "text/plain": [
       "      Geneid Chr  Start    End Strand  Length  counts\n",
       "0    YDL248W  IV   1802   2953      +    1152     324\n",
       "1  YDL247W-A  IV   3762   3836      +      75       9\n",
       "2    YDL247W  IV   5985   7814      +    1830      10\n",
       "3    YDL246C  IV   8683   9756      -    1074       7\n",
       "4    YDL245C  IV  11657  13360      -    1704      21"
      ]
     },
     "execution_count": 13,
     "metadata": {},
     "output_type": "execute_result"
    }
   ],
   "source": [
    "counts = pd.read_csv('data/HW7/counts.txt', skiprows=1, sep='\\t')\n",
    "col_names = list(counts.columns)\n",
    "col_names[-1] = 'counts'\n",
    "counts.columns = col_names\n",
    "counts.head()"
   ]
  },
  {
   "cell_type": "code",
   "execution_count": 14,
   "metadata": {},
   "outputs": [
    {
     "data": {
      "text/html": [
       "<div>\n",
       "<style scoped>\n",
       "    .dataframe tbody tr th:only-of-type {\n",
       "        vertical-align: middle;\n",
       "    }\n",
       "\n",
       "    .dataframe tbody tr th {\n",
       "        vertical-align: top;\n",
       "    }\n",
       "\n",
       "    .dataframe thead th {\n",
       "        text-align: right;\n",
       "    }\n",
       "</style>\n",
       "<table border=\"1\" class=\"dataframe\">\n",
       "  <thead>\n",
       "    <tr style=\"text-align: right;\">\n",
       "      <th></th>\n",
       "      <th>Geneid</th>\n",
       "      <th>Chr</th>\n",
       "      <th>Start</th>\n",
       "      <th>End</th>\n",
       "      <th>Strand</th>\n",
       "      <th>Length</th>\n",
       "      <th>counts</th>\n",
       "      <th>RPK</th>\n",
       "      <th>TPM</th>\n",
       "    </tr>\n",
       "  </thead>\n",
       "  <tbody>\n",
       "    <tr>\n",
       "      <th>0</th>\n",
       "      <td>YDL248W</td>\n",
       "      <td>IV</td>\n",
       "      <td>1802</td>\n",
       "      <td>2953</td>\n",
       "      <td>+</td>\n",
       "      <td>1152</td>\n",
       "      <td>324</td>\n",
       "      <td>281.250000</td>\n",
       "      <td>55.672520</td>\n",
       "    </tr>\n",
       "    <tr>\n",
       "      <th>1</th>\n",
       "      <td>YDL247W-A</td>\n",
       "      <td>IV</td>\n",
       "      <td>3762</td>\n",
       "      <td>3836</td>\n",
       "      <td>+</td>\n",
       "      <td>75</td>\n",
       "      <td>9</td>\n",
       "      <td>120.000000</td>\n",
       "      <td>23.753609</td>\n",
       "    </tr>\n",
       "    <tr>\n",
       "      <th>2</th>\n",
       "      <td>YDL247W</td>\n",
       "      <td>IV</td>\n",
       "      <td>5985</td>\n",
       "      <td>7814</td>\n",
       "      <td>+</td>\n",
       "      <td>1830</td>\n",
       "      <td>10</td>\n",
       "      <td>5.464481</td>\n",
       "      <td>1.081676</td>\n",
       "    </tr>\n",
       "    <tr>\n",
       "      <th>3</th>\n",
       "      <td>YDL246C</td>\n",
       "      <td>IV</td>\n",
       "      <td>8683</td>\n",
       "      <td>9756</td>\n",
       "      <td>-</td>\n",
       "      <td>1074</td>\n",
       "      <td>7</td>\n",
       "      <td>6.517691</td>\n",
       "      <td>1.290156</td>\n",
       "    </tr>\n",
       "    <tr>\n",
       "      <th>4</th>\n",
       "      <td>YDL245C</td>\n",
       "      <td>IV</td>\n",
       "      <td>11657</td>\n",
       "      <td>13360</td>\n",
       "      <td>-</td>\n",
       "      <td>1704</td>\n",
       "      <td>21</td>\n",
       "      <td>12.323944</td>\n",
       "      <td>2.439484</td>\n",
       "    </tr>\n",
       "  </tbody>\n",
       "</table>\n",
       "</div>"
      ],
      "text/plain": [
       "      Geneid Chr  Start    End Strand  Length  counts         RPK        TPM\n",
       "0    YDL248W  IV   1802   2953      +    1152     324  281.250000  55.672520\n",
       "1  YDL247W-A  IV   3762   3836      +      75       9  120.000000  23.753609\n",
       "2    YDL247W  IV   5985   7814      +    1830      10    5.464481   1.081676\n",
       "3    YDL246C  IV   8683   9756      -    1074       7    6.517691   1.290156\n",
       "4    YDL245C  IV  11657  13360      -    1704      21   12.323944   2.439484"
      ]
     },
     "execution_count": 14,
     "metadata": {},
     "output_type": "execute_result"
    }
   ],
   "source": [
    "# рассчитываем TPM\n",
    "\n",
    "counts['RPK'] = counts.counts / (counts.Length / 1000)\n",
    "scale = counts.RPK.sum() / 1000000\n",
    "counts['TPM'] = counts['RPK'] / scale\n",
    "counts.head()"
   ]
  },
  {
   "cell_type": "code",
   "execution_count": 20,
   "metadata": {},
   "outputs": [
    {
     "data": {
      "text/plain": [
       "<AxesSubplot:>"
      ]
     },
     "execution_count": 20,
     "metadata": {},
     "output_type": "execute_result"
    },
    {
     "data": {
      "image/png": "[encoded data removed]",
      "text/plain": [
       "<Figure size 432x288 with 1 Axes>"
      ]
     },
     "metadata": {
      "needs_background": "light"
     },
     "output_type": "display_data"
    }
   ],
   "source": [
    "counts.TPM.hist(bins=100)"
   ]
  },
  {
   "cell_type": "code",
   "execution_count": 23,
   "metadata": {},
   "outputs": [
    {
     "data": {
      "text/plain": [
       "0.8832444569183272"
      ]
     },
     "execution_count": 23,
     "metadata": {},
     "output_type": "execute_result"
    }
   ],
   "source": [
    "# выберем трешхолд по TPM > 1\n",
    "\n",
    "counts[counts.TPM > 1].shape[0] / counts.shape[0]"
   ]
  },
  {
   "cell_type": "code",
   "execution_count": 24,
   "metadata": {},
   "outputs": [],
   "source": [
    "# посчитаем покрытие\n",
    "\n",
    "!bedtools genomecov -ibam data/HW7/aln.sorted.bam -d > data/HW7/coverage.tsv"
   ]
  },
  {
   "cell_type": "code",
   "execution_count": 35,
   "metadata": {},
   "outputs": [
    {
     "data": {
      "text/html": [
       "<div>\n",
       "<style scoped>\n",
       "    .dataframe tbody tr th:only-of-type {\n",
       "        vertical-align: middle;\n",
       "    }\n",
       "\n",
       "    .dataframe tbody tr th {\n",
       "        vertical-align: top;\n",
       "    }\n",
       "\n",
       "    .dataframe thead th {\n",
       "        text-align: right;\n",
       "    }\n",
       "</style>\n",
       "<table border=\"1\" class=\"dataframe\">\n",
       "  <thead>\n",
       "    <tr style=\"text-align: right;\">\n",
       "      <th></th>\n",
       "      <th>Chr</th>\n",
       "      <th>Pos</th>\n",
       "      <th>Cov</th>\n",
       "    </tr>\n",
       "  </thead>\n",
       "  <tbody>\n",
       "    <tr>\n",
       "      <th>8441104</th>\n",
       "      <td>XIII</td>\n",
       "      <td>32121</td>\n",
       "      <td>10</td>\n",
       "    </tr>\n",
       "    <tr>\n",
       "      <th>6772442</th>\n",
       "      <td>XI</td>\n",
       "      <td>108452</td>\n",
       "      <td>281</td>\n",
       "    </tr>\n",
       "    <tr>\n",
       "      <th>10674450</th>\n",
       "      <td>XV</td>\n",
       "      <td>556703</td>\n",
       "      <td>99</td>\n",
       "    </tr>\n",
       "    <tr>\n",
       "      <th>3588764</th>\n",
       "      <td>V</td>\n",
       "      <td>171143</td>\n",
       "      <td>64</td>\n",
       "    </tr>\n",
       "    <tr>\n",
       "      <th>4941920</th>\n",
       "      <td>VII</td>\n",
       "      <td>677264</td>\n",
       "      <td>81</td>\n",
       "    </tr>\n",
       "    <tr>\n",
       "      <th>6125548</th>\n",
       "      <td>X</td>\n",
       "      <td>207309</td>\n",
       "      <td>82</td>\n",
       "    </tr>\n",
       "    <tr>\n",
       "      <th>7838025</th>\n",
       "      <td>XII</td>\n",
       "      <td>507219</td>\n",
       "      <td>564</td>\n",
       "    </tr>\n",
       "    <tr>\n",
       "      <th>2998350</th>\n",
       "      <td>IX</td>\n",
       "      <td>106396</td>\n",
       "      <td>67</td>\n",
       "    </tr>\n",
       "    <tr>\n",
       "      <th>11794374</th>\n",
       "      <td>XVI</td>\n",
       "      <td>585336</td>\n",
       "      <td>62</td>\n",
       "    </tr>\n",
       "    <tr>\n",
       "      <th>6787612</th>\n",
       "      <td>XI</td>\n",
       "      <td>123622</td>\n",
       "      <td>62</td>\n",
       "    </tr>\n",
       "  </tbody>\n",
       "</table>\n",
       "</div>"
      ],
      "text/plain": [
       "           Chr     Pos  Cov\n",
       "8441104   XIII   32121   10\n",
       "6772442     XI  108452  281\n",
       "10674450    XV  556703   99\n",
       "3588764      V  171143   64\n",
       "4941920    VII  677264   81\n",
       "6125548      X  207309   82\n",
       "7838025    XII  507219  564\n",
       "2998350     IX  106396   67\n",
       "11794374   XVI  585336   62\n",
       "6787612     XI  123622   62"
      ]
     },
     "execution_count": 35,
     "metadata": {},
     "output_type": "execute_result"
    }
   ],
   "source": [
    "cov = pd.read_csv('data/HW7/coverage.tsv', sep='\\t', header=None)\n",
    "cov.columns = ['Chr', 'Pos', 'Cov']\n",
    "cov.sample(10)"
   ]
  },
  {
   "cell_type": "code",
   "execution_count": 45,
   "metadata": {},
   "outputs": [
    {
     "data": {
      "text/html": [
       "<div>\n",
       "<style scoped>\n",
       "    .dataframe tbody tr th:only-of-type {\n",
       "        vertical-align: middle;\n",
       "    }\n",
       "\n",
       "    .dataframe tbody tr th {\n",
       "        vertical-align: top;\n",
       "    }\n",
       "\n",
       "    .dataframe thead th {\n",
       "        text-align: right;\n",
       "    }\n",
       "</style>\n",
       "<table border=\"1\" class=\"dataframe\">\n",
       "  <thead>\n",
       "    <tr style=\"text-align: right;\">\n",
       "      <th></th>\n",
       "      <th>Chr</th>\n",
       "      <th>Pos</th>\n",
       "      <th>Cov</th>\n",
       "    </tr>\n",
       "  </thead>\n",
       "  <tbody>\n",
       "    <tr>\n",
       "      <th>0</th>\n",
       "      <td>I</td>\n",
       "      <td>1</td>\n",
       "      <td>0</td>\n",
       "    </tr>\n",
       "    <tr>\n",
       "      <th>1</th>\n",
       "      <td>I</td>\n",
       "      <td>2</td>\n",
       "      <td>0</td>\n",
       "    </tr>\n",
       "    <tr>\n",
       "      <th>2</th>\n",
       "      <td>I</td>\n",
       "      <td>3</td>\n",
       "      <td>0</td>\n",
       "    </tr>\n",
       "    <tr>\n",
       "      <th>3</th>\n",
       "      <td>I</td>\n",
       "      <td>4</td>\n",
       "      <td>0</td>\n",
       "    </tr>\n",
       "    <tr>\n",
       "      <th>4</th>\n",
       "      <td>I</td>\n",
       "      <td>5</td>\n",
       "      <td>0</td>\n",
       "    </tr>\n",
       "  </tbody>\n",
       "</table>\n",
       "</div>"
      ],
      "text/plain": [
       "  Chr  Pos  Cov\n",
       "0   I    1    0\n",
       "1   I    2    0\n",
       "2   I    3    0\n",
       "3   I    4    0\n",
       "4   I    5    0"
      ]
     },
     "execution_count": 45,
     "metadata": {},
     "output_type": "execute_result"
    }
   ],
   "source": [
    "cov_i = cov.copy()\n",
    "# cov_i = cov_i.set_index(['Chr', 'Pos'])\n",
    "cov_i.head()"
   ]
  },
  {
   "cell_type": "code",
   "execution_count": 50,
   "metadata": {},
   "outputs": [
    {
     "data": {
      "text/plain": [
       "(7126, 9)"
      ]
     },
     "execution_count": 50,
     "metadata": {},
     "output_type": "execute_result"
    }
   ],
   "source": [
    "g_cov = []\n",
    "\n",
    "# for i, row in \n",
    "counts.shape\n",
    "\n",
    "# for i, row in counts.iterrows():\n",
    "#     g = cov_i[(cov_i.Chr == row.Chr) & (cov_i.Pos >= row.Start) & (cov_i.Pos <= row.End)]\n",
    "#     g_cov.append(g[g.Cov > 0].shape[0] / g.shape[0])"
   ]
  },
  {
   "cell_type": "code",
   "execution_count": null,
   "metadata": {},
   "outputs": [],
   "source": []
  }
 ],
 "metadata": {
  "kernelspec": {
   "display_name": "Python 3",
   "language": "python",
   "name": "python3"
  },
  "language_info": {
   "codemirror_mode": {
    "name": "ipython",
    "version": 3
   },
   "file_extension": ".py",
   "mimetype": "text/x-python",
   "name": "python",
   "nbconvert_exporter": "python",
   "pygments_lexer": "ipython3",
   "version": "3.8.8"
  }
 },
 "nbformat": 4,
 "nbformat_minor": 1
}
